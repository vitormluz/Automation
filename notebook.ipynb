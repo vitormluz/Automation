{
 "cells": [
  {
   "cell_type": "code",
   "execution_count": 25,
   "metadata": {},
   "outputs": [
    {
     "data": {
      "text/plain": [
       "'OK'"
      ]
     },
     "execution_count": 25,
     "metadata": {},
     "output_type": "execute_result"
    }
   ],
   "source": [
    "import pyautogui\n",
    "\n",
    "# Alerta de código\n",
    "pyautogui.alert('O código vai começar em 5 segudos, não utilize o computador durante o funcionamento do código, ou ele irá falhar')\n",
    "pyautogui.time.sleep(5)\n",
    "\n",
    "# Abrir Google Drive\n",
    "pyautogui.press('win')\n",
    "pyautogui.write('chrome')\n",
    "pyautogui.time.sleep(2)\n",
    "\n",
    "pyautogui.press('enter')\n",
    "pyautogui.time.sleep(1.5)\n",
    "\n",
    "pyautogui.write('https://drive.google.com/drive/my-drive')\n",
    "pyautogui.press('enter')\n",
    "pyautogui.time.sleep(3)\n",
    "\n",
    "# Entrar na Área de Trabalho\n",
    "pyautogui.hotkey('win', 'd')\n",
    "\n",
    "# Clicar no arquivo para fazer backup e arrastar\n",
    "pyautogui.moveTo(574, 337)\n",
    "pyautogui.mouseDown()\n",
    "pyautogui.time.sleep(1.5)\n",
    "\n",
    "# Enquanto arrastar fazer mudar para o Google Drive\n",
    "pyautogui.moveTo(764, 597)\n",
    "pyautogui.hotkey('alt', 'tab')\n",
    "pyautogui.time.sleep(1.5)\n",
    "\n",
    "# Largar o arquivo no Google Drive\n",
    "pyautogui.mouseUp()\n",
    "\n",
    "# Esperar 3 segundos\n",
    "pyautogui.time.sleep(3)\n",
    "pyautogui.alert('Código finalizado! Pode voltar a usar o computador')"
   ]
  },
  {
   "cell_type": "code",
   "execution_count": 23,
   "metadata": {},
   "outputs": [
    {
     "data": {
      "text/plain": [
       "Point(x=949, y=628)"
      ]
     },
     "execution_count": 23,
     "metadata": {},
     "output_type": "execute_result"
    }
   ],
   "source": [
    "pyautogui.time.sleep(3)\n",
    "pyautogui.position()"
   ]
  }
 ],
 "metadata": {
  "kernelspec": {
   "display_name": "Python 3.9.12 ('base')",
   "language": "python",
   "name": "python3"
  },
  "language_info": {
   "codemirror_mode": {
    "name": "ipython",
    "version": 3
   },
   "file_extension": ".py",
   "mimetype": "text/x-python",
   "name": "python",
   "nbconvert_exporter": "python",
   "pygments_lexer": "ipython3",
   "version": "3.9.12"
  },
  "orig_nbformat": 4,
  "vscode": {
   "interpreter": {
    "hash": "ad2bdc8ecc057115af97d19610ffacc2b4e99fae6737bb82f5d7fb13d2f2c186"
   }
  }
 },
 "nbformat": 4,
 "nbformat_minor": 2
}
